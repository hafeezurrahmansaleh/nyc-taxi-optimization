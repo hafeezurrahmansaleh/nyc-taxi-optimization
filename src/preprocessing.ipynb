{
 "cells": [
  {
   "cell_type": "markdown",
   "metadata": {},
   "source": [
    "# NYC Taxi Data Preprocessing\n",
    "\n",
    "This notebook preprocesses the NYC yellow taxi trip dataset for our AI course project. We load taxi trip data, merge with zone information, integrate real NOAA weather data, and engineer features for demand prediction and clustering.\n",
    "\n",
    "**Contribution of Muneeb**: Data loading, cleaning, feature engineering, weather integration, and zone centroid extraction.\n",
    "\n",
    "## Step 1: Import Libraries\n",
    "We need libraries for data processing, geospatial operations, and feature engineering."
   ]
  },
  {
   "cell_type": "code",
   "execution_count": 1,
   "metadata": {
    "ExecuteTime": {
     "end_time": "2025-04-25T02:38:46.255928Z",
     "start_time": "2025-04-25T02:38:44.426523Z"
    }
   },
   "outputs": [],
   "source": [
    "import pandas as pd\n",
    "import dask.dataframe as dd\n",
    "import glob\n",
    "import numpy as np\n",
    "from datetime import datetime\n",
    "import holidays\n",
    "import geopandas as gpd\n",
    "import os\n",
    "import json\n",
    "import matplotlib.pyplot as plt\n",
    "\n",
    "# Define base URL for file paths\n",
    "base_url = \"/Users/saleh/Desktop/Projects/AIProject/TaxiOptimization/\"\n",
    "\n",
    "# For tracking row counts\n",
    "row_counts = []"
   ]
  },
  {
   "cell_type": "markdown",
   "metadata": {},
   "source": [
    "## Step 2: Load Taxi Data\n",
    "Load the yellow taxi trip Parquet files using Dask for scalability, then convert to Pandas for processing."
   ]
  },
  {
   "cell_type": "code",
   "execution_count": 2,
   "metadata": {
    "ExecuteTime": {
     "end_time": "2025-04-25T02:38:54.917937Z",
     "start_time": "2025-04-25T02:38:49.258389Z"
    }
   },
   "outputs": [
    {
     "name": "stdout",
     "output_type": "stream",
     "text": [
      "Loaded 20332093 trip records from 6 files.\n"
     ]
    }
   ],
   "source": [
    "# Load taxi data with Dask\n",
    "parquet_files = glob.glob(base_url + \"data/raw/taxi_data/*.parquet\")\n",
    "if not parquet_files:\n",
    "    raise FileNotFoundError(f\"No Parquet files found at {base_url}data/raw/taxi_data/\")\n",
    "ddf = dd.read_parquet(parquet_files)\n",
    "taxi_df = ddf.compute()  # Convert to Pandas\n",
    "print(f\"Loaded {len(taxi_df)} trip records from {len(parquet_files)} files.\")\n",
    "row_counts.append({\"step\": \"Initial Load\", \"rows\": len(taxi_df)})"
   ]
  },
  {
   "cell_type": "markdown",
   "metadata": {},
   "source": [
    "## Step 3: Load and Clean Zone Data\n",
    "Load `taxi_zones.csv` and validate `LocationID`, `Borough`, and `Zone`. Merge with GeoJSON centroids for spatial features."
   ]
  },
  {
   "cell_type": "code",
   "execution_count": 3,
   "metadata": {
    "ExecuteTime": {
     "end_time": "2025-04-25T02:42:58.006195Z",
     "start_time": "2025-04-25T02:39:03.827694Z"
    }
   },
   "outputs": [
    {
     "name": "stdout",
     "output_type": "stream",
     "text": [
      "Loaded 265 zones.\n",
      "Kept 263 zones after cleaning (2 dropped).\n",
      "Attempting to load GeoJSON from: /Users/saleh/Desktop/Projects/AIProject/TaxiOptimization/data/raw/zones/taxi_zones.geojson\n",
      "GeoJSON file is valid JSON.\n"
     ]
    },
    {
     "name": "stderr",
     "output_type": "stream",
     "text": [
      "/var/folders/7y/m_z50_qs7rx24x9wgdn7n8h80000gn/T/ipykernel_47053/250717021.py:35: UserWarning: Geometry is in a geographic CRS. Results from 'centroid' are likely incorrect. Use 'GeoSeries.to_crs()' to re-project geometries to a projected CRS before this operation.\n",
      "\n",
      "  zones_df[\"lat\"] = gdf.geometry.centroid.y\n",
      "/var/folders/7y/m_z50_qs7rx24x9wgdn7n8h80000gn/T/ipykernel_47053/250717021.py:36: UserWarning: Geometry is in a geographic CRS. Results from 'centroid' are likely incorrect. Use 'GeoSeries.to_crs()' to re-project geometries to a projected CRS before this operation.\n",
      "\n",
      "  zones_df[\"lon\"] = gdf.geometry.centroid.x\n"
     ]
    },
    {
     "name": "stdout",
     "output_type": "stream",
     "text": [
      "Loaded GeoJSON with 263 valid centroids.\n",
      "After zone merge: 20123221 rows.\n"
     ]
    }
   ],
   "source": [
    "# Load zone information\n",
    "zones_path = base_url + \"data/raw/zones/taxi_zones.csv\"\n",
    "try:\n",
    "    zones_df = pd.read_csv(zones_path)\n",
    "    print(f\"Loaded {len(zones_df)} zones.\")\n",
    "except FileNotFoundError:\n",
    "    print(f\"Error: taxi_zones.csv not found at {zones_path}\")\n",
    "    raise\n",
    "\n",
    "# Clean zone data\n",
    "initial_zones = len(zones_df)\n",
    "zones_df = zones_df.dropna(subset=[\"LocationID\", \"Borough\", \"Zone\"])\n",
    "zones_df = zones_df[zones_df[\"LocationID\"].isin(range(1, 266))]  # Valid LocationID: 1-265\n",
    "print(f\"Kept {len(zones_df)} zones after cleaning ({initial_zones - len(zones_df)} dropped).\")\n",
    "\n",
    "# Load GeoJSON for centroids\n",
    "geojson_path = base_url + \"data/raw/zones/taxi_zones.geojson\"\n",
    "print(f\"Attempting to load GeoJSON from: {geojson_path}\")\n",
    "\n",
    "# Validate GeoJSON\n",
    "try:\n",
    "    with open(geojson_path, \"r\") as f:\n",
    "        json.load(f)\n",
    "    print(\"GeoJSON file is valid JSON.\")\n",
    "except json.JSONDecodeError as e:\n",
    "    print(f\"Error: Invalid GeoJSON file - JSON parsing failed: {str(e)}\")\n",
    "    raise\n",
    "except FileNotFoundError:\n",
    "    print(f\"Error: GeoJSON file not found at {geojson_path}\")\n",
    "    raise\n",
    "\n",
    "# Load GeoJSON\n",
    "try:\n",
    "    gdf = gpd.read_file(geojson_path)\n",
    "    zones_df[\"lat\"] = gdf.geometry.centroid.y\n",
    "    zones_df[\"lon\"] = gdf.geometry.centroid.x\n",
    "    # Broader NYC bounds to include all zones (e.g., JFK, Staten Island)\n",
    "    zones_df = zones_df[\n",
    "        (zones_df[\"lat\"].between(40.4, 41.1)) & (zones_df[\"lon\"].between(-74.5, -73.5))\n",
    "    ]\n",
    "    print(f\"Loaded GeoJSON with {len(zones_df)} valid centroids.\")\n",
    "except Exception as e:\n",
    "    print(f\"Error loading GeoJSON: {str(e)}\")\n",
    "    raise\n",
    "\n",
    "# Merge zones with taxi data\n",
    "taxi_df = taxi_df.merge(zones_df, left_on=\"PULocationID\", right_on=\"LocationID\", how=\"inner\") \\\n",
    "                 .rename(columns={\"Borough\": \"Pickup_Borough\", \"Zone\": \"Pickup_Zone\", \"lat\": \"pickup_lat\", \"lon\": \"pickup_lon\"}) \\\n",
    "                 .drop(columns=[\"LocationID\", \"service_zone\"])\n",
    "taxi_df = taxi_df.merge(zones_df, left_on=\"DOLocationID\", right_on=\"LocationID\", how=\"inner\") \\\n",
    "                 .rename(columns={\"Borough\": \"Dropoff_Borough\", \"Zone\": \"Dropoff_Zone\", \"lat\": \"dropoff_lat\", \"lon\": \"dropoff_lon\"}) \\\n",
    "                 .drop(columns=[\"LocationID\", \"service_zone\"])\n",
    "print(f\"After zone merge: {len(taxi_df)} rows.\")\n",
    "row_counts.append({\"step\": \"Zone Merge\", \"rows\": len(taxi_df)})"
   ]
  },
  {
   "cell_type": "markdown",
   "metadata": {},
   "source": [
    "## Step 4: Clean Taxi Data\n",
    "Clean the taxi dataset by validating timestamps, fares, and trip details. Track row counts to diagnose data loss."
   ]
  },
  {
   "cell_type": "code",
   "execution_count": 4,
   "metadata": {
    "ExecuteTime": {
     "end_time": "2025-04-25T02:46:22.946912Z",
     "start_time": "2025-04-25T02:45:06.599615Z"
    }
   },
   "outputs": [
    {
     "name": "stdout",
     "output_type": "stream",
     "text": [
      "After timestamp conversion: 20123221 rows.\n",
      "Dataset date range: 2002-12-31 00:00:00 to 2026-06-27 00:00:00\n",
      "After date range filter: 20123163 rows.\n",
      "After trip filters: 17495231 rows.\n",
      "After fare validation: 17495190 rows.\n",
      "After RatecodeID filter: 17291573 rows.\n",
      "After duplicate removal: 17286600 rows.\n"
     ]
    }
   ],
   "source": [
    "# Convert timestamps\n",
    "taxi_df[\"pickup_datetime\"] = pd.to_datetime(taxi_df[\"tpep_pickup_datetime\"], errors=\"coerce\")\n",
    "taxi_df[\"dropoff_datetime\"] = pd.to_datetime(taxi_df[\"tpep_dropoff_datetime\"], errors=\"coerce\")\n",
    "taxi_df = taxi_df.dropna(subset=[\"pickup_datetime\", \"dropoff_datetime\"])\n",
    "print(f\"After timestamp conversion: {len(taxi_df)} rows.\")\n",
    "row_counts.append({\"step\": \"Timestamp Conversion\", \"rows\": len(taxi_df)})\n",
    "\n",
    "# Dynamic date range\n",
    "min_date = taxi_df[\"pickup_datetime\"].min().floor(\"D\")\n",
    "max_date = taxi_df[\"pickup_datetime\"].max().ceil(\"D\")\n",
    "print(f\"Dataset date range: {min_date} to {max_date}\")\n",
    "taxi_df = taxi_df[\n",
    "    (taxi_df[\"pickup_datetime\"] >= min_date) &\n",
    "    (taxi_df[\"pickup_datetime\"] <= max_date) &\n",
    "    (taxi_df[\"dropoff_datetime\"] >= min_date) &\n",
    "    (taxi_df[\"dropoff_datetime\"] <= max_date) &\n",
    "    (taxi_df[\"pickup_datetime\"] <= taxi_df[\"dropoff_datetime\"])\n",
    "]\n",
    "print(f\"After date range filter: {len(taxi_df)} rows.\")\n",
    "row_counts.append({\"step\": \"Date Range Filter\", \"rows\": len(taxi_df)})\n",
    "\n",
    "# Filter trip details\n",
    "taxi_df = taxi_df[\n",
    "    (taxi_df[\"trip_distance\"] > 0) & (taxi_df[\"trip_distance\"] < 100) &\n",
    "    (taxi_df[\"total_amount\"] > 0) & (taxi_df[\"total_amount\"] < 500) &\n",
    "    (taxi_df[\"passenger_count\"] > 0) & (taxi_df[\"passenger_count\"] < 10)\n",
    "]\n",
    "print(f\"After trip filters: {len(taxi_df)} rows.\")\n",
    "row_counts.append({\"step\": \"Trip Filters\", \"rows\": len(taxi_df)})\n",
    "\n",
    "# Validate fares and surcharges\n",
    "fare_cols = [\"fare_amount\", \"extra\", \"mta_tax\", \"tip_amount\", \"tolls_amount\", \"improvement_surcharge\", \"congestion_surcharge\", \"Airport_fee\"]\n",
    "for col in fare_cols:\n",
    "    if col in taxi_df.columns:\n",
    "        taxi_df = taxi_df[taxi_df[col] >= 0]\n",
    "print(f\"After fare validation: {len(taxi_df)} rows.\")\n",
    "row_counts.append({\"step\": \"Fare Validation\", \"rows\": len(taxi_df)})\n",
    "\n",
    "# Validate RatecodeID\n",
    "if \"RatecodeID\" in taxi_df.columns:\n",
    "    taxi_df = taxi_df[taxi_df[\"RatecodeID\"].isin([1, 2, 3, 4, 5, 6])]\n",
    "print(f\"After RatecodeID filter: {len(taxi_df)} rows.\")\n",
    "row_counts.append({\"step\": \"RatecodeID Filter\", \"rows\": len(taxi_df)})\n",
    "\n",
    "# Remove duplicates\n",
    "taxi_df = taxi_df.drop_duplicates(subset=[\"VendorID\", \"tpep_pickup_datetime\", \"tpep_dropoff_datetime\"])\n",
    "print(f\"After duplicate removal: {len(taxi_df)} rows.\")\n",
    "row_counts.append({\"step\": \"Duplicate Removal\", \"rows\": len(taxi_df)})"
   ]
  },
  {
   "cell_type": "markdown",
   "metadata": {},
   "source": [
    "## Step 5: Feature Engineering\n",
    "Engineer temporal, trip-based, and demand-based features for modeling."
   ]
  },
  {
   "cell_type": "code",
   "execution_count": 5,
   "metadata": {
    "ExecuteTime": {
     "end_time": "2025-04-25T02:48:50.620895Z",
     "start_time": "2025-04-25T02:47:35.837095Z"
    }
   },
   "outputs": [
    {
     "name": "stdout",
     "output_type": "stream",
     "text": [
      "After trip feature filters: 17282918 rows.\n",
      "After demand features: 17282918 rows.\n",
      "Added demand-based features.\n"
     ]
    }
   ],
   "source": [
    "# Temporal features\n",
    "taxi_df[\"hour\"] = taxi_df[\"pickup_datetime\"].dt.hour\n",
    "taxi_df[\"day_of_week\"] = taxi_df[\"pickup_datetime\"].dt.dayofweek\n",
    "taxi_df[\"month\"] = taxi_df[\"pickup_datetime\"].dt.month\n",
    "us_holidays = holidays.US()\n",
    "taxi_df[\"is_holiday\"] = taxi_df[\"pickup_datetime\"].apply(lambda x: 1 if x in us_holidays else 0)\n",
    "\n",
    "# Trip-based features\n",
    "taxi_df[\"trip_duration\"] = (taxi_df[\"dropoff_datetime\"] - taxi_df[\"pickup_datetime\"]).dt.total_seconds() / 60\n",
    "taxi_df = taxi_df[taxi_df[\"trip_duration\"] > 0]\n",
    "taxi_df[\"avg_speed\"] = taxi_df[\"trip_distance\"] / (taxi_df[\"trip_duration\"] / 60)\n",
    "taxi_df = taxi_df[taxi_df[\"avg_speed\"] < 100]\n",
    "print(f\"After trip feature filters: {len(taxi_df)} rows.\")\n",
    "row_counts.append({\"step\": \"Trip Feature Filters\", \"rows\": len(taxi_df)})\n",
    "\n",
    "# Demand-based features\n",
    "pickup_counts = taxi_df.groupby([\"PULocationID\", \"hour\"])[\"VendorID\"].count().reset_index(name=\"pickup_count\")\n",
    "if \"pickup_count\" in taxi_df.columns:\n",
    "    taxi_df = taxi_df.drop(columns=[\"pickup_count\"])\n",
    "taxi_df = taxi_df.merge(pickup_counts, on=[\"PULocationID\", \"hour\"], how=\"left\")\n",
    "print(f\"After demand features: {len(taxi_df)} rows.\")\n",
    "row_counts.append({\"step\": \"Demand Features\", \"rows\": len(taxi_df)})\n",
    "print(\"Added demand-based features.\")"
   ]
  },
  {
   "cell_type": "markdown",
   "metadata": {},
   "source": [
    "## Step 6: Integrate NOAA Weather Data\n",
    "Load and process NOAA ISD weather data (JFK station), merging with taxi data."
   ]
  },
  {
   "cell_type": "code",
   "execution_count": 6,
   "metadata": {
    "ExecuteTime": {
     "end_time": "2025-04-25T02:50:55.771091Z",
     "start_time": "2025-04-25T02:50:09.933027Z"
    }
   },
   "outputs": [
    {
     "name": "stderr",
     "output_type": "stream",
     "text": [
      "/var/folders/7y/m_z50_qs7rx24x9wgdn7n8h80000gn/T/ipykernel_47053/3096562332.py:9: DtypeWarning: Columns (2,43,44,48,53,56,61,86) have mixed types. Specify dtype option on import or set low_memory=False.\n",
      "  weather_data = pd.read_csv(weather_file)\n"
     ]
    },
    {
     "name": "stdout",
     "output_type": "stream",
     "text": [
      "Available weather columns: ['STATION', 'DATE', 'SOURCE', 'LATITUDE', 'LONGITUDE', 'ELEVATION', 'NAME', 'REPORT_TYPE', 'CALL_SIGN', 'QUALITY_CONTROL', 'WND', 'CIG', 'VIS', 'TMP', 'DEW', 'SLP', 'AA1', 'AA2', 'AA3', 'AB1', 'AD1', 'AE1', 'AH1', 'AH2', 'AH3', 'AH4', 'AH5', 'AH6', 'AI1', 'AI2', 'AI3', 'AI4', 'AI5', 'AI6', 'AJ1', 'AK1', 'AL1', 'AM1', 'AN1', 'AT1', 'AT2', 'AT3', 'AT4', 'AT5', 'AT6', 'AU1', 'AU2', 'AU3', 'AU4', 'AW1', 'AW2', 'AW3', 'AW4', 'AW5', 'AX1', 'AX2', 'AX3', 'ED1', 'GA1', 'GA2', 'GA3', 'GA4', 'GD1', 'GD2', 'GD3', 'GD4', 'GE1', 'GF1', 'KA1', 'KA2', 'KB1', 'KB2', 'KB3', 'KC1', 'KC2', 'KD1', 'KD2', 'KE1', 'KG1', 'KG2', 'MA1', 'MD1', 'MF1', 'MG1', 'MH1', 'MK1', 'MV1', 'MW1', 'MW2', 'MW3', 'OC1', 'OD1', 'OE1', 'OE2', 'OE3', 'RH1', 'RH2', 'RH3', 'REM', 'EQD']\n"
     ]
    },
    {
     "name": "stderr",
     "output_type": "stream",
     "text": [
      "/var/folders/7y/m_z50_qs7rx24x9wgdn7n8h80000gn/T/ipykernel_47053/3096562332.py:26: FutureWarning: DataFrame.fillna with 'method' is deprecated and will raise in a future version. Use obj.ffill() or obj.bfill() instead.\n",
      "  weather_data[[\"temperature\", \"precipitation\", \"wind_speed\"]] = weather_data[[\"temperature\", \"precipitation\", \"wind_speed\"]].fillna(method=\"ffill\").fillna(0)\n"
     ]
    },
    {
     "name": "stdout",
     "output_type": "stream",
     "text": [
      "Loaded and processed NOAA weather data.\n"
     ]
    },
    {
     "name": "stderr",
     "output_type": "stream",
     "text": [
      "/var/folders/7y/m_z50_qs7rx24x9wgdn7n8h80000gn/T/ipykernel_47053/3096562332.py:32: FutureWarning: DataFrame.fillna with 'method' is deprecated and will raise in a future version. Use obj.ffill() or obj.bfill() instead.\n",
      "  taxi_df[[\"temperature\", \"precipitation\", \"wind_speed\"]] = taxi_df[[\"temperature\", \"precipitation\", \"wind_speed\"]].fillna(method=\"ffill\").fillna(0)\n"
     ]
    },
    {
     "name": "stdout",
     "output_type": "stream",
     "text": [
      "After weather merge: 17290240 rows.\n",
      "Integrated real weather data.\n"
     ]
    }
   ],
   "source": [
    "# Load NOAA weather data\n",
    "weather_file = base_url + \"data/external/jfk_hourly_weather_2024.csv\"\n",
    "if not os.path.exists(weather_file):\n",
    "    print(f\"Error: Weather data not found at {weather_file}\")\n",
    "    print(\"Download JFK 2023-2024 data from:\")\n",
    "    print(\"2023: https://www.ncei.noaa.gov/data/global-hourly/access/2023/947890.csv\")\n",
    "    raise FileNotFoundError\n",
    "else:\n",
    "    weather_data = pd.read_csv(weather_file)\n",
    "    print(\"Available weather columns:\", weather_data.columns.tolist())\n",
    "    # Parse datetime\n",
    "    weather_data[\"date\"] = pd.to_datetime(weather_data[\"DATE\"], errors=\"coerce\")\n",
    "    # Extract temperature (°C to °F)\n",
    "    weather_data[\"temperature\"] = weather_data[\"TMP\"].str.split(\",\", expand=True)[0].replace(r\"[^0-9\\-+]\", \"\", regex=True).astype(float) / 10 * 9/5 + 32\n",
    "    # Extract precipitation (mm to inches)\n",
    "    if \"AA1\" in weather_data.columns:\n",
    "        weather_data[\"precipitation\"] = weather_data[\"AA1\"].str.split(\",\", expand=True)[0].replace(r\"[^0-9]\", \"\", regex=True).astype(float) / 25.4\n",
    "    else:\n",
    "        print(\"Warning: AA1 column not found, setting precipitation to 0.\")\n",
    "        weather_data[\"precipitation\"] = 0\n",
    "    # Extract wind speed (m/s to mph)\n",
    "    weather_data[\"wind_speed\"] = weather_data[\"WND\"].str.split(\",\", expand=True)[3].replace(r\"[^0-9]\", \"\", regex=True).astype(float) / 10 * 2.23694\n",
    "    # Select columns\n",
    "    weather_data = weather_data[[\"date\", \"temperature\", \"precipitation\", \"wind_speed\"]]\n",
    "    weather_data = weather_data.dropna(subset=[\"date\"])\n",
    "    weather_data[[\"temperature\", \"precipitation\", \"wind_speed\"]] = weather_data[[\"temperature\", \"precipitation\", \"wind_speed\"]].fillna(method=\"ffill\").fillna(0)\n",
    "    print(\"Loaded and processed NOAA weather data.\")\n",
    "\n",
    "# Merge weather data\n",
    "taxi_df[\"date\"] = taxi_df[\"pickup_datetime\"].dt.floor(\"h\")\n",
    "taxi_df = taxi_df.merge(weather_data, on=\"date\", how=\"left\")\n",
    "taxi_df[[\"temperature\", \"precipitation\", \"wind_speed\"]] = taxi_df[[\"temperature\", \"precipitation\", \"wind_speed\"]].fillna(method=\"ffill\").fillna(0)\n",
    "print(f\"After weather merge: {len(taxi_df)} rows.\")\n",
    "row_counts.append({\"step\": \"Weather Merge\", \"rows\": len(taxi_df)})\n",
    "print(\"Integrated real weather data.\")"
   ]
  },
  {
   "cell_type": "markdown",
   "metadata": {},
   "source": [
    "## Step 7: Visualize Row Counts\n",
    "Plot the number of rows after each cleaning step to diagnose data loss."
   ]
  },
  {
   "cell_type": "code",
   "execution_count": 7,
   "metadata": {
    "ExecuteTime": {
     "end_time": "2025-04-25T02:52:27.673809Z",
     "start_time": "2025-04-25T02:52:26.910022Z"
    }
   },
   "outputs": [
    {
     "data": {
      "text/plain": "<Figure size 1000x600 with 1 Axes>",
      "image/png": "[encoded data removed]"
     },
     "metadata": {},
     "output_type": "display_data"
    }
   ],
   "source": [
    "# Plot row counts\n",
    "counts_df = pd.DataFrame(row_counts)\n",
    "plt.figure(figsize=(10, 6))\n",
    "plt.plot(counts_df[\"step\"], counts_df[\"rows\"], marker=\"o\")\n",
    "plt.title(\"Row Counts After Each Cleaning Step\")\n",
    "plt.xlabel(\"Processing Step\")\n",
    "plt.ylabel(\"Number of Rows\")\n",
    "plt.xticks(rotation=45, ha=\"right\")\n",
    "plt.tight_layout()\n",
    "plt.show()"
   ]
  },
  {
   "cell_type": "markdown",
   "metadata": {},
   "source": [
    "## Step 8: Save Processed Data\n",
    "Save the cleaned and enriched dataset to CSV."
   ]
  },
  {
   "cell_type": "code",
   "execution_count": 8,
   "metadata": {
    "ExecuteTime": {
     "end_time": "2025-04-25T03:00:26.614326Z",
     "start_time": "2025-04-25T02:55:56.240452Z"
    }
   },
   "outputs": [
    {
     "name": "stdout",
     "output_type": "stream",
     "text": [
      "Saved processed dataset to /Users/saleh/Desktop/Projects/AIProject/TaxiOptimization/data/processed/cleaned_taxi_data.csv\n"
     ]
    }
   ],
   "source": [
    "# Save processed data\n",
    "taxi_df.to_csv(base_url + \"data/processed/cleaned_taxi_data.csv\", index=False)\n",
    "print(f\"Saved processed dataset to {base_url}data/processed/cleaned_taxi_data.csv\")"
   ]
  },
  {
   "cell_type": "code",
   "outputs": [
    {
     "name": "stdout",
     "output_type": "stream",
     "text": [
      "17290240\n"
     ]
    }
   ],
   "source": [
    "print(len(taxi_df))"
   ],
   "metadata": {
    "collapsed": false,
    "ExecuteTime": {
     "end_time": "2025-04-25T03:00:42.632386Z",
     "start_time": "2025-04-25T03:00:42.579635Z"
    }
   },
   "execution_count": 9
  },
  {
   "cell_type": "code",
   "outputs": [],
   "source": [],
   "metadata": {
    "collapsed": false
   }
  }
 ],
 "metadata": {
  "kernelspec": {
   "display_name": "Python 3",
   "language": "python",
   "name": "python3"
  },
  "language_info": {
   "codemirror_mode": {
    "name": "ipython",
    "version": 3
   },
   "file_extension": ".py",
   "mimetype": "text/x-python",
   "name": "python",
   "nbconvert_exporter": "python",
   "pygments_lexer": "ipython3",
   "version": "3.12.0"
  }
 },
 "nbformat": 4,
 "nbformat_minor": 2
}
