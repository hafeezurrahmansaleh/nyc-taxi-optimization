{
 "cells": [
  {
   "cell_type": "markdown",
   "metadata": {},
   "source": [
    "# NYC Taxi Classification and Clustering\n",
    "\n",
    "This notebook implements supervised learning (Random Forest, XGBoost) to classify high-demand zones and clustering (K-means, DBSCAN) to group demand hotspots for our AI course project. We use contextual features (weather, time, speed) to predict demand without leakage, and enhance clustering with temporal features and descriptive labels. Results feed into the Streamlit dashboard for driver recommendations.\n",
    "\n",
    "**Contribution of Saleh**: Classification, clustering, feature importance, cluster statistics, and dashboard integration lead.\n",
    "\n",
    "## Step 1: Import Libraries\n",
    "We need scikit-learn for ML, XGBoost for classification, Folium for maps, and Matplotlib for visualizations."
   ]
  },
  {
   "cell_type": "code",
   "execution_count": 1,
   "metadata": {
    "ExecuteTime": {
     "end_time": "2025-04-25T05:35:29.430123Z",
     "start_time": "2025-04-25T05:35:27.371148Z"
    }
   },
   "outputs": [],
   "source": [
    "import pandas as pd\n",
    "import numpy as np\n",
    "from sklearn.ensemble import RandomForestClassifier\n",
    "from sklearn.model_selection import train_test_split, GridSearchCV\n",
    "from sklearn.metrics import accuracy_score, precision_score, recall_score, f1_score, roc_auc_score\n",
    "from xgboost import XGBClassifier\n",
    "from sklearn.cluster import KMeans, DBSCAN\n",
    "from sklearn.preprocessing import MinMaxScaler\n",
    "from sklearn.metrics import silhouette_score\n",
    "import matplotlib.pyplot as plt\n",
    "import pickle\n",
    "import folium\n",
    "import os\n",
    "\n",
    "# Define base URL for file paths\n",
    "base_url = \"/Users/saleh/Desktop/Projects/AIProject/TaxiOptimization/\""
   ]
  },
  {
   "cell_type": "markdown",
   "metadata": {},
   "source": [
    "## Step 2: Load Data\n",
    "Load the processed dataset from `preprocessing.py`."
   ]
  },
  {
   "cell_type": "code",
   "execution_count": 2,
   "metadata": {
    "ExecuteTime": {
     "end_time": "2025-04-25T05:37:56.764082Z",
     "start_time": "2025-04-25T05:35:30.722980Z"
    }
   },
   "outputs": [
    {
     "name": "stdout",
     "output_type": "stream",
     "text": [
      "Loaded 17290240 rows from cleaned_taxi_data.csv\n"
     ]
    }
   ],
   "source": [
    "# Load processed data\n",
    "data_path = base_url + \"data/processed/cleaned_taxi_data.csv\"\n",
    "try:\n",
    "    df = pd.read_csv(data_path)\n",
    "    print(f\"Loaded {len(df)} rows from cleaned_taxi_data.csv\")\n",
    "except FileNotFoundError:\n",
    "    print(f\"Error: {data_path} not found\")\n",
    "    raise"
   ]
  },
  {
   "cell_type": "markdown",
   "metadata": {},
   "source": [
    "## Step 3: Prepare Classification Data\n",
    "Define high-demand zones (pickups > 80th percentile) and aggregate features, excluding `pickup_count` to avoid leakage."
   ]
  },
  {
   "cell_type": "code",
   "execution_count": 3,
   "metadata": {
    "ExecuteTime": {
     "end_time": "2025-04-25T07:36:37.175649Z",
     "start_time": "2025-04-25T07:36:35.026535Z"
    }
   },
   "outputs": [
    {
     "name": "stdout",
     "output_type": "stream",
     "text": [
      "Columns in data after merge: ['PULocationID', 'hour', 'pickup_count', 'is_high_demand', 'temperature', 'precipitation', 'wind_speed', 'is_holiday', 'avg_speed', 'day_of_week', 'month', 'temp_precip']\n",
      "Using RFE-selected features: ['precipitation', 'is_holiday', 'avg_speed', 'day_of_week', 'temp_precip']\n"
     ]
    }
   ],
   "source": [
    "# Classification: Prepare data for high-demand zones\n",
    "pickup_counts = df.groupby([\"PULocationID\", \"hour\"])[\"VendorID\"].count().reset_index(name=\"pickup_count\")\n",
    "threshold = pickup_counts[\"pickup_count\"].quantile(0.8)\n",
    "pickup_counts[\"is_high_demand\"] = (pickup_counts[\"pickup_count\"] > threshold).astype(int)\n",
    "features = df.groupby([\"PULocationID\", \"hour\"]).agg({\n",
    "    \"temperature\": \"mean\",\n",
    "    \"precipitation\": \"mean\",\n",
    "    \"wind_speed\": \"mean\",\n",
    "    \"is_holiday\": \"mean\",\n",
    "    \"avg_speed\": \"mean\",\n",
    "    \"day_of_week\": \"mean\",\n",
    "    \"month\": \"first\"\n",
    "}).reset_index()\n",
    "features[\"temp_precip\"] = features[\"temperature\"] * features[\"precipitation\"]\n",
    "data = pickup_counts.merge(features, on=[\"PULocationID\", \"hour\"])\n",
    "print(\"Columns in data after merge:\", data.columns.tolist())\n",
    "\n",
    "# Load RFE-selected features\n",
    "try:\n",
    "    selected_features = pd.read_csv(base_url + \"data/processed/selected_features.csv\")\n",
    "    top_features = selected_features[selected_features[\"ranking\"] == 1][\"feature\"].tolist()\n",
    "    print(f\"Using RFE-selected features: {top_features}\")\n",
    "except FileNotFoundError:\n",
    "    print(\"Warning: selected_features.csv not found, using all features\")\n",
    "    top_features = [\"temperature\", \"precipitation\", \"wind_speed\", \"is_holiday\", \"avg_speed\", \"day_of_week\", \"hour\", \"month\", \"temp_precip\"]\n",
    "\n",
    "# Prepare features and target (use RFE-selected features)\n",
    "X = data[top_features]\n",
    "y = data[\"is_high_demand\"]\n",
    "X_train, X_test, y_train, y_test = train_test_split(X, y, test_size=0.2, random_state=42)"
   ]
  },
  {
   "cell_type": "markdown",
   "metadata": {},
   "source": [
    "## Step 4: Train Random Forest\n",
    "Train and tune a Random Forest classifier with expanded hyperparameters, evaluating performance."
   ]
  },
  {
   "cell_type": "code",
   "execution_count": 4,
   "metadata": {
    "ExecuteTime": {
     "end_time": "2025-04-25T07:38:02.476531Z",
     "start_time": "2025-04-25T07:36:44.730720Z"
    }
   },
   "outputs": [
    {
     "name": "stdout",
     "output_type": "stream",
     "text": [
      "Random Forest Metrics: {'accuracy': 0.9190207156308852, 'precision': 0.8146341463414634, 'recall': 0.7767441860465116, 'f1': 0.7952380952380952, 'roc_auc': np.float64(0.9701655638230691)}\n"
     ]
    }
   ],
   "source": [
    "# Random Forest with grid search\n",
    "rf = RandomForestClassifier(random_state=42)\n",
    "rf_params = {\n",
    "    \"n_estimators\": [100, 200, 300],\n",
    "    \"max_depth\": [10, 20, None],\n",
    "    \"min_samples_split\": [2, 5],\n",
    "    \"min_samples_leaf\": [1, 2]\n",
    "}\n",
    "rf_grid = GridSearchCV(rf, rf_params, cv=5, scoring=\"f1\")\n",
    "rf_grid.fit(X_train, y_train)\n",
    "rf_best = rf_grid.best_estimator_\n",
    "rf_pred = rf_best.predict(X_test)\n",
    "rf_metrics = {\n",
    "    \"accuracy\": accuracy_score(y_test, rf_pred),\n",
    "    \"precision\": precision_score(y_test, rf_pred),\n",
    "    \"recall\": recall_score(y_test, rf_pred),\n",
    "    \"f1\": f1_score(y_test, rf_pred),\n",
    "    \"roc_auc\": roc_auc_score(y_test, rf_best.predict_proba(X_test)[:, 1])\n",
    "}\n",
    "print(\"Random Forest Metrics:\", rf_metrics)"
   ]
  },
  {
   "cell_type": "code",
   "outputs": [
    {
     "name": "stdout",
     "output_type": "stream",
     "text": [
      "Random Forest Earnings Prediction Metrics: {'mse': 8.999363068893915, 'r2': 0.9604294772684373}\n",
      "Saved Random Forest earnings model as rf_earnings_model.pkl\n"
     ]
    }
   ],
   "source": [
    "from geopy.distance import geodesic\n",
    "# Step 4.5: Train Random Forest Regressor for Earnings Prediction\n",
    "from sklearn.ensemble import RandomForestRegressor\n",
    "from sklearn.metrics import mean_squared_error, r2_score\n",
    "\n",
    "# Prepare data for earnings prediction\n",
    "# Aggregate features (same as classification)\n",
    "earnings_data = pickup_counts.merge(features, on=[\"PULocationID\", \"hour\"])\n",
    "earnings_data[\"temp_precip\"] = earnings_data[\"temperature\"] * earnings_data[\"precipitation\"]\n",
    "\n",
    "# Compute additional features needed for adjusted_earnings (similar to dashboard.py)\n",
    "supply_data = df.groupby([\"PULocationID\", \"hour\"])[\"VendorID\"].nunique().reset_index(name=\"driver_count\")\n",
    "earnings_data = earnings_data.merge(supply_data, on=[\"PULocationID\", \"hour\"], how=\"left\")\n",
    "earnings_data[\"driver_count\"] = earnings_data[\"driver_count\"].fillna(1)\n",
    "earnings_data[\"current_demand_supply_ratio\"] = earnings_data[\"pickup_count\"] / earnings_data[\"driver_count\"]\n",
    "\n",
    "# Merge with zone_features to get avg_fare and passenger_count\n",
    "zone_features_subset = df.groupby(\"PULocationID\").agg({\n",
    "    \"total_amount\": \"mean\",\n",
    "    \"passenger_count\": \"mean\",\n",
    "    \"trip_duration\": \"mean\"\n",
    "}).reset_index()\n",
    "zone_features_subset[\"avg_fare\"] = zone_features_subset[\"total_amount\"].clip(upper=30)\n",
    "earnings_data = earnings_data.merge(zone_features_subset[[\"PULocationID\", \"avg_fare\", \"passenger_count\", \"trip_duration\"]], on=\"PULocationID\", how=\"left\")\n",
    "\n",
    "# Compute distance (simplified: use average coordinates for each zone)\n",
    "zone_coords = df.groupby(\"PULocationID\")[[\"pickup_lat\", \"pickup_lon\"]].mean().reset_index()\n",
    "earnings_data = earnings_data.merge(zone_coords, on=\"PULocationID\", how=\"left\")\n",
    "# Assume current location is the centroid of all zones for simplicity\n",
    "current_location = zone_coords[[\"pickup_lat\", \"pickup_lon\"]].mean()\n",
    "earnings_data[\"distance\"] = earnings_data.apply(\n",
    "    lambda row: geodesic((current_location[\"pickup_lat\"], current_location[\"pickup_lon\"]), (row[\"pickup_lat\"], row[\"pickup_lon\"])).miles\n",
    "    if pd.notna(row[\"pickup_lat\"]) and pd.notna(row[\"pickup_lon\"]) else float(\"inf\"),\n",
    "    axis=1\n",
    ")\n",
    "\n",
    "# Compute adjusted_earnings as the target variable (mimicking dashboard.py logic)\n",
    "earnings_data[\"avg_speed\"] = earnings_data[\"avg_speed\"].fillna(earnings_data[\"avg_speed\"].mean())\n",
    "earnings_data[\"travel_time\"] = (earnings_data[\"distance\"] / earnings_data[\"avg_speed\"] * 60).fillna(float(\"inf\"))\n",
    "earnings_data[\"trips_per_hour\"] = (60 / earnings_data[\"trip_duration\"]).clip(upper=3)\n",
    "earnings_data[\"gross_earnings\"] = earnings_data[\"trips_per_hour\"] * earnings_data[\"avg_fare\"]\n",
    "earnings_data[\"gross_earnings\"] = earnings_data[\"gross_earnings\"] * (1 + 0.1 * earnings_data[\"passenger_count\"])\n",
    "earnings_data[\"fuel_cost\"] = earnings_data[\"distance\"] * 0.5\n",
    "idle_time = 15\n",
    "earnings_data[\"net_earnings\"] = (\n",
    "    earnings_data[\"gross_earnings\"] * (60 - earnings_data[\"travel_time\"] - idle_time) / 60 - earnings_data[\"fuel_cost\"]\n",
    ")\n",
    "earnings_data[\"net_earnings\"] = earnings_data[\"net_earnings\"].clip(lower=0)\n",
    "# Simplified preference_score and congestion_factor for training (use averages or placeholders)\n",
    "earnings_data[\"preference_score\"] = 0  # Placeholder (no driver preferences in training data)\n",
    "earnings_data[\"congestion_factor\"] = earnings_data[\"avg_speed\"].std() / earnings_data[\"avg_speed\"]  # Simplified\n",
    "earnings_data[\"adjusted_earnings\"] = (\n",
    "    earnings_data[\"net_earnings\"] * (1 + 0.1 * earnings_data[\"preference_score\"]) * (1 - 0.5 * earnings_data[\"congestion_factor\"])\n",
    ")\n",
    "\n",
    "# Define features for earnings prediction\n",
    "rf_earnings_features = [\n",
    "    \"pickup_count\", \"driver_count\", \"temperature\", \"precipitation\", \"wind_speed\",\n",
    "    \"is_holiday\", \"avg_speed\", \"day_of_week\", \"temp_precip\", \"travel_time\",\n",
    "    \"passenger_count\", \"avg_fare\", \"current_demand_supply_ratio\"\n",
    "]\n",
    "\n",
    "# Prepare features and target\n",
    "X_earnings = earnings_data[rf_earnings_features]\n",
    "y_earnings = earnings_data[\"adjusted_earnings\"]\n",
    "X_earnings_train, X_earnings_test, y_earnings_train, y_earnings_test = train_test_split(X_earnings, y_earnings, test_size=0.2, random_state=42)\n",
    "\n",
    "# Train Random Forest Regressor with grid search\n",
    "rf_earnings = RandomForestRegressor(random_state=42)\n",
    "rf_earnings_params = {\n",
    "    \"n_estimators\": [100, 200],\n",
    "    \"max_depth\": [10, 20, None],\n",
    "    \"min_samples_split\": [2, 5],\n",
    "    \"min_samples_leaf\": [1, 2]\n",
    "}\n",
    "rf_earnings_grid = GridSearchCV(rf_earnings, rf_earnings_params, cv=5, scoring=\"neg_mean_squared_error\")\n",
    "rf_earnings_grid.fit(X_earnings_train, y_earnings_train)\n",
    "rf_earnings_best = rf_earnings_grid.best_estimator_\n",
    "\n",
    "# Evaluate the model\n",
    "rf_earnings_pred = rf_earnings_best.predict(X_earnings_test)\n",
    "rf_earnings_metrics = {\n",
    "    \"mse\": mean_squared_error(y_earnings_test, rf_earnings_pred),\n",
    "    \"r2\": r2_score(y_earnings_test, rf_earnings_pred)\n",
    "}\n",
    "print(\"Random Forest Earnings Prediction Metrics:\", rf_earnings_metrics)\n",
    "\n",
    "# Save the model\n",
    "with open(base_url + \"models/rf_earnings_model.pkl\", \"wb\") as f:\n",
    "    pickle.dump(rf_earnings_best, f)\n",
    "print(\"Saved Random Forest earnings model as rf_earnings_model.pkl\")"
   ],
   "metadata": {
    "collapsed": false,
    "ExecuteTime": {
     "end_time": "2025-04-25T07:42:08.465327Z",
     "start_time": "2025-04-25T07:38:11.188028Z"
    }
   },
   "execution_count": 5
  },
  {
   "cell_type": "code",
   "outputs": [
    {
     "name": "stdout",
     "output_type": "stream",
     "text": [
      "\n",
      "Random Forest Earnings Feature Importance:\n",
      "                        feature  importance\n",
      "9                   travel_time    0.876334\n",
      "6                     avg_speed    0.038748\n",
      "11                     avg_fare    0.026944\n",
      "10              passenger_count    0.019811\n",
      "12  current_demand_supply_ratio    0.010574\n",
      "0                  pickup_count    0.009228\n",
      "2                   temperature    0.004173\n",
      "4                    wind_speed    0.003893\n",
      "7                   day_of_week    0.003689\n",
      "8                   temp_precip    0.002769\n",
      "3                 precipitation    0.001783\n",
      "5                    is_holiday    0.001687\n",
      "1                  driver_count    0.000365\n"
     ]
    },
    {
     "data": {
      "text/plain": "<Figure size 800x600 with 1 Axes>",
      "image/png": "[encoded data removed]"
     },
     "metadata": {},
     "output_type": "display_data"
    }
   ],
   "source": [
    "# Step 4.6: Visualize Random Forest Earnings Feature Importance\n",
    "# Plot and save feature importance for rf_earnings, summarizing key drivers\n",
    "feature_importance_earnings = pd.DataFrame({\n",
    "    \"feature\": rf_earnings_features,\n",
    "    \"importance\": rf_earnings_best.feature_importances_\n",
    "})\n",
    "feature_importance_earnings = feature_importance_earnings.sort_values(\"importance\", ascending=False)\n",
    "print(\"\\nRandom Forest Earnings Feature Importance:\")\n",
    "print(feature_importance_earnings)\n",
    "\n",
    "plt.figure(figsize=(8, 6))\n",
    "plt.bar(feature_importance_earnings[\"feature\"], feature_importance_earnings[\"importance\"])\n",
    "plt.xticks(rotation=45, ha=\"right\")\n",
    "plt.xlabel(\"Feature\")\n",
    "plt.ylabel(\"Importance\")\n",
    "plt.title(\"Random Forest Earnings Feature Importance\")\n",
    "plt.tight_layout()\n",
    "plt.savefig(base_url + \"visualizations/rf_earnings_feature_importance.png\")\n",
    "plt.show()\n",
    "plt.close()"
   ],
   "metadata": {
    "collapsed": false,
    "ExecuteTime": {
     "end_time": "2025-04-25T07:43:01.997768Z",
     "start_time": "2025-04-25T07:43:01.520978Z"
    }
   },
   "execution_count": 6
  },
  {
   "cell_type": "markdown",
   "metadata": {},
   "source": [
    "## Step 5: Visualize Random Forest Feature Importance\n",
    "Plot and save feature importance, summarizing key drivers."
   ]
  },
  {
   "cell_type": "code",
   "execution_count": 7,
   "metadata": {
    "ExecuteTime": {
     "end_time": "2025-04-25T07:43:16.200449Z",
     "start_time": "2025-04-25T07:43:16.061143Z"
    }
   },
   "outputs": [
    {
     "name": "stdout",
     "output_type": "stream",
     "text": [
      "\n",
      "Random Forest Feature Importance:\n",
      "         feature  importance\n",
      "1     is_holiday    0.403892\n",
      "2      avg_speed    0.219336\n",
      "3    day_of_week    0.132327\n",
      "0  precipitation    0.130127\n",
      "4    temp_precip    0.114317\n"
     ]
    },
    {
     "data": {
      "text/plain": "<Figure size 800x600 with 1 Axes>",
      "image/png": "[encoded data removed]"
     },
     "metadata": {},
     "output_type": "display_data"
    }
   ],
   "source": [
    "# Feature importance\n",
    "feature_importance_rf = pd.DataFrame({\n",
    "    \"feature\": X.columns,\n",
    "    \"importance\": rf_best.feature_importances_\n",
    "}).sort_values(\"importance\", ascending=False)\n",
    "print(\"\\nRandom Forest Feature Importance:\")\n",
    "print(feature_importance_rf)\n",
    "feature_importance_rf.to_csv(base_url + \"data/processed/feature_importance_rf.csv\", index=False)\n",
    "plt.figure(figsize=(8, 6))\n",
    "plt.bar(feature_importance_rf[\"feature\"], feature_importance_rf[\"importance\"])\n",
    "plt.title(\"Random Forest Feature Importance\")\n",
    "plt.xticks(rotation=45)\n",
    "plt.tight_layout()\n",
    "plt.savefig(base_url + \"visualizations/feature_importance_rf.png\")\n",
    "plt.show()\n",
    "plt.close()"
   ]
  },
  {
   "cell_type": "markdown",
   "metadata": {},
   "source": [
    "## Step 6: Train XGBoost\n",
    "Train and tune an XGBoost classifier with expanded hyperparameters."
   ]
  },
  {
   "cell_type": "code",
   "execution_count": 8,
   "metadata": {
    "ExecuteTime": {
     "end_time": "2025-04-25T07:43:53.144195Z",
     "start_time": "2025-04-25T07:43:25.629378Z"
    }
   },
   "outputs": [
    {
     "name": "stdout",
     "output_type": "stream",
     "text": [
      "XGBoost Metrics: {'accuracy': 0.9199623352165726, 'precision': 0.8037383177570093, 'recall': 0.8, 'f1': 0.8018648018648019, 'roc_auc': np.float64(0.9733944702232228)}\n"
     ]
    }
   ],
   "source": [
    "# XGBoost with grid search\n",
    "xgb = XGBClassifier(random_state=42)\n",
    "xgb_params = {\n",
    "    \"n_estimators\": [100, 200, 300],\n",
    "    \"max_depth\": [3, 5, 7],\n",
    "    \"learning_rate\": [0.01, 0.1],\n",
    "    \"subsample\": [0.8, 1.0]\n",
    "}\n",
    "xgb_grid = GridSearchCV(xgb, xgb_params, cv=5, scoring=\"f1\")\n",
    "xgb_grid.fit(X_train, y_train)\n",
    "xgb_best = xgb_grid.best_estimator_\n",
    "xgb_pred = xgb_best.predict(X_test)\n",
    "xgb_metrics = {\n",
    "    \"accuracy\": accuracy_score(y_test, xgb_pred),\n",
    "    \"precision\": precision_score(y_test, xgb_pred),\n",
    "    \"recall\": recall_score(y_test, xgb_pred),\n",
    "    \"f1\": f1_score(y_test, xgb_pred),\n",
    "    \"roc_auc\": roc_auc_score(y_test, xgb_best.predict_proba(X_test)[:, 1])\n",
    "}\n",
    "print(\"XGBoost Metrics:\", xgb_metrics)"
   ]
  },
  {
   "cell_type": "markdown",
   "metadata": {},
   "source": [
    "## Step 7: Visualize XGBoost Feature Importance\n",
    "Plot and save feature importance for XGBoost."
   ]
  },
  {
   "cell_type": "code",
   "execution_count": 9,
   "metadata": {
    "ExecuteTime": {
     "end_time": "2025-04-25T12:20:18.857908Z",
     "start_time": "2025-04-25T12:20:18.671222Z"
    }
   },
   "outputs": [
    {
     "name": "stdout",
     "output_type": "stream",
     "text": [
      "\n",
      "XGBoost Feature Importance:\n",
      "         feature  importance\n",
      "1     is_holiday    0.541147\n",
      "2      avg_speed    0.145785\n",
      "3    day_of_week    0.115235\n",
      "0  precipitation    0.108274\n",
      "4    temp_precip    0.089559\n"
     ]
    },
    {
     "data": {
      "text/plain": "<Figure size 800x600 with 1 Axes>",
      "image/png": "[encoded data removed]"
     },
     "metadata": {},
     "output_type": "display_data"
    }
   ],
   "source": [
    "# Feature importance\n",
    "feature_importance_xgb = pd.DataFrame({\n",
    "    \"feature\": X.columns,\n",
    "    \"importance\": xgb_best.feature_importances_\n",
    "}).sort_values(\"importance\", ascending=False)\n",
    "print(\"\\nXGBoost Feature Importance:\")\n",
    "print(feature_importance_xgb)\n",
    "feature_importance_xgb.to_csv(base_url + \"data/processed/feature_importance_xgb.csv\", index=False)\n",
    "plt.figure(figsize=(8, 6))\n",
    "plt.bar(feature_importance_xgb[\"feature\"], feature_importance_xgb[\"importance\"])\n",
    "plt.title(\"XGBoost Feature Importance\")\n",
    "plt.xticks(rotation=45)\n",
    "plt.tight_layout()\n",
    "plt.savefig(base_url + \"visualizations/feature_importance_xgb.png\")\n",
    "plt.show()\n",
    "plt.close()"
   ]
  },
  {
   "cell_type": "markdown",
   "metadata": {},
   "source": [
    "## Step 8: Save Classification Models\n",
    "Save Random Forest and XGBoost models for dashboard use."
   ]
  },
  {
   "cell_type": "code",
   "execution_count": 10,
   "metadata": {
    "ExecuteTime": {
     "end_time": "2025-04-25T12:20:29.954912Z",
     "start_time": "2025-04-25T12:20:29.904558Z"
    }
   },
   "outputs": [],
   "source": [
    "# Save models\n",
    "with open(base_url + \"models/rf_model.pkl\", \"wb\") as f:\n",
    "    pickle.dump(rf_best, f)\n",
    "with open(base_url + \"models/xgb_model.pkl\", \"wb\") as f:\n",
    "    pickle.dump(xgb_best, f)"
   ]
  },
  {
   "cell_type": "markdown",
   "metadata": {},
   "source": [
    "## Step 9: Prepare Clustering Data\n",
    "Aggregate zone features for K-means and DBSCAN, including temporal data."
   ]
  },
  {
   "cell_type": "code",
   "execution_count": 11,
   "metadata": {
    "ExecuteTime": {
     "end_time": "2025-04-25T12:20:39.678197Z",
     "start_time": "2025-04-25T12:20:35.126751Z"
    }
   },
   "outputs": [
    {
     "name": "stdout",
     "output_type": "stream",
     "text": [
      "zone_features columns: ['PULocationID', 'trip_duration', 'avg_speed', 'pickup_lat', 'pickup_lon', 'total_amount', 'hour_mean', 'day_of_week_mean', 'passenger_count', 'pickup_count', 'pickup_count_raw', 'pickup_count_std', 'pickup_count_capped', 'hour_peak', 'day_of_week_weekend']\n"
     ]
    }
   ],
   "source": [
    "# Clustering: Prepare zone features\n",
    "zone_features = df.groupby(\"PULocationID\").agg({\n",
    "    \"trip_duration\": \"mean\",\n",
    "    \"avg_speed\": \"mean\",\n",
    "    \"pickup_lat\": \"first\",\n",
    "    \"pickup_lon\": \"first\",\n",
    "    \"total_amount\": \"mean\",\n",
    "    \"hour\": \"mean\",\n",
    "    \"day_of_week\": \"mean\",\n",
    "    \"passenger_count\": \"mean\"  # Added for cluster_features\n",
    "}).reset_index()\n",
    "# Rename columns for clarity (excluding pickup_count for now)\n",
    "zone_features.columns = [\n",
    "    \"PULocationID\", \"trip_duration\", \"avg_speed\", \"pickup_lat\", \"pickup_lon\",\n",
    "    \"total_amount\", \"hour_mean\", \"day_of_week_mean\", \"passenger_count\"\n",
    "]\n",
    "\n",
    "# Compute pickup_count by aggregating VendorID counts per PULocationID\n",
    "pickup_counts_zones = df.groupby(\"PULocationID\")[\"VendorID\"].count().reset_index(name=\"pickup_count\")\n",
    "zone_features = zone_features.merge(pickup_counts_zones, on=\"PULocationID\", how=\"left\")\n",
    "zone_features[\"pickup_count\"] = zone_features[\"pickup_count\"].fillna(0)\n",
    "\n",
    "# Compute mean and std of pickup_count (mimicking the original aggregation)\n",
    "zone_features[\"pickup_count_raw\"] = zone_features[\"pickup_count\"]\n",
    "pickup_counts_std = df.groupby([\"PULocationID\", \"hour\"])[\"VendorID\"].count().reset_index(name=\"pickup_count\")\n",
    "pickup_counts_std = pickup_counts_std.groupby(\"PULocationID\")[\"pickup_count\"].std().reset_index(name=\"pickup_count_std\")\n",
    "zone_features = zone_features.merge(pickup_counts_std, on=\"PULocationID\", how=\"left\")\n",
    "zone_features[\"pickup_count_std\"] = zone_features[\"pickup_count_std\"].fillna(zone_features[\"pickup_count_std\"].mean())\n",
    "\n",
    "# Cap pickup_count at 98th percentile for DBSCAN\n",
    "zone_features[\"pickup_count_capped\"] = np.clip(zone_features[\"pickup_count_raw\"], 0, np.percentile(zone_features[\"pickup_count_raw\"], 98))\n",
    "# Add binary temporal features for DBSCAN\n",
    "zone_features[\"hour_peak\"] = zone_features[\"hour_mean\"].apply(lambda x: 1 if 7 <= x <= 9 or 17 <= x <= 19 else 0)\n",
    "zone_features[\"day_of_week_weekend\"] = zone_features[\"day_of_week_mean\"].apply(lambda x: 1 if 5 <= x <= 6 else 0)\n",
    "# Fill any NaN values (e.g., zones with single trips)\n",
    "zone_features[[\"pickup_count_std\", \"hour_mean\", \"day_of_week_mean\"]] = zone_features[[\"pickup_count_std\", \"hour_mean\", \"day_of_week_mean\"]].fillna(zone_features[[\"pickup_count_std\", \"hour_mean\", \"day_of_week_mean\"]].mean())\n",
    "\n",
    "# Prepare features for clustering\n",
    "cluster_features = [\"pickup_count_raw\", \"total_amount\", \"passenger_count\", \"trip_duration\"]\n",
    "scaler = MinMaxScaler()\n",
    "scaled_features = scaler.fit_transform(zone_features[cluster_features])\n",
    "\n",
    "print(\"zone_features columns:\", zone_features.columns.tolist())"
   ]
  },
  {
   "cell_type": "markdown",
   "metadata": {},
   "source": [
    "## Step 10: K-means Clustering\n",
    "Apply K-means and select the optimal number of clusters using the elbow method."
   ]
  },
  {
   "cell_type": "code",
   "execution_count": 12,
   "metadata": {
    "ExecuteTime": {
     "end_time": "2025-04-25T12:20:48.701427Z",
     "start_time": "2025-04-25T12:20:48.358871Z"
    }
   },
   "outputs": [
    {
     "name": "stdout",
     "output_type": "stream",
     "text": [
      "k=2, Silhouette Score: 0.87\n",
      "k=3, Silhouette Score: 0.85\n",
      "k=4, Silhouette Score: 0.85\n",
      "k=5, Silhouette Score: 0.81\n",
      "k=6, Silhouette Score: 0.79\n",
      "k=7, Silhouette Score: 0.80\n",
      "k=8, Silhouette Score: 0.51\n",
      "k=9, Silhouette Score: 0.51\n",
      "K-means Silhouette Score (k=2): 0.87\n"
     ]
    }
   ],
   "source": [
    "# K-means clustering\n",
    "from sklearn.preprocessing import RobustScaler\n",
    "\n",
    "# Prepare features for K-means with original set plus total_amount\n",
    "X_cluster_kmeans = zone_features[[\"pickup_count_raw\", \"trip_duration\", \"avg_speed\", \"total_amount\"]]\n",
    "scaler = RobustScaler()\n",
    "X_cluster_kmeans_scaled = scaler.fit_transform(X_cluster_kmeans)\n",
    "inertias = []\n",
    "kmeans_silhouettes = []\n",
    "for k in range(1, 10):\n",
    "    kmeans = KMeans(n_clusters=k, random_state=42)\n",
    "    kmeans.fit(X_cluster_kmeans_scaled)\n",
    "    inertias.append(kmeans.inertia_)\n",
    "    if k > 1:\n",
    "        labels = kmeans.predict(X_cluster_kmeans_scaled)\n",
    "        silhouette = silhouette_score(X_cluster_kmeans_scaled, labels)\n",
    "        kmeans_silhouettes.append(silhouette)\n",
    "        print(f\"k={k}, Silhouette Score: {silhouette:.2f}\")\n",
    "plt.figure(figsize=(10, 5))\n",
    "plt.plot(range(1, 10), inertias, marker=\"o\")\n",
    "plt.title(\"Elbow Method for K-means\")\n",
    "plt.xlabel(\"Number of Clusters\")\n",
    "plt.ylabel(\"Inertia\")\n",
    "plt.savefig(base_url + \"visualizations/elbow_plot.png\")\n",
    "plt.close()\n",
    "\n",
    "# Choose k with highest silhouette score\n",
    "best_k = np.argmax(kmeans_silhouettes) + 2  # +2 because k starts at 2 for silhouettes\n",
    "kmeans = KMeans(n_clusters=best_k, random_state=42)\n",
    "zone_features[\"kmeans_cluster\"] = kmeans.fit_predict(X_cluster_kmeans_scaled)\n",
    "zone_features[\"kmeans_cluster\"] = zone_features[\"kmeans_cluster\"].astype(int)\n",
    "kmeans_silhouette = silhouette_score(X_cluster_kmeans_scaled, zone_features[\"kmeans_cluster\"])\n",
    "print(f\"K-means Silhouette Score (k={best_k}): {kmeans_silhouette:.2f}\")\n",
    "with open(base_url + \"models/kmeans_model.pkl\", \"wb\") as f:\n",
    "    pickle.dump(kmeans, f)\n",
    "\n",
    "# Note: Fixed K-means features by including pickup_count_raw and avg_speed, restored 0.86 score"
   ]
  },
  {
   "cell_type": "markdown",
   "metadata": {},
   "source": [
    "## Step 11: DBSCAN Clustering\n",
    "Apply DBSCAN with expanded tuning for spatial-temporal clustering."
   ]
  },
  {
   "cell_type": "code",
   "execution_count": 13,
   "metadata": {
    "ExecuteTime": {
     "end_time": "2025-04-25T12:20:58.575047Z",
     "start_time": "2025-04-25T12:20:58.120049Z"
    }
   },
   "outputs": [
    {
     "name": "stdout",
     "output_type": "stream",
     "text": [
      "eps=2.5, min_samples=5, clusters=4, noise=11.37%, silhouette=0.70, sizes={0: 206, 3: 8, 1: 7, 2: 5}, min_size=5\n",
      "eps=2.5, min_samples=6, clusters=3, noise=13.73%, silhouette=0.69, sizes={0: 205, 1: 8, 2: 7}, min_size=7\n",
      "eps=2.5, min_samples=7, clusters=3, noise=13.73%, silhouette=0.69, sizes={0: 205, 1: 8, 2: 7}, min_size=7\n",
      "eps=2.5, min_samples=8, clusters=2, noise=16.47%, silhouette=0.78, sizes={0: 205, 1: 8}, min_size=8\n",
      "eps=2.6, min_samples=5, clusters=4, noise=11.37%, silhouette=0.70, sizes={0: 206, 2: 8, 1: 7, 3: 5}, min_size=5\n",
      "eps=2.6, min_samples=6, clusters=3, noise=13.33%, silhouette=0.70, sizes={0: 206, 1: 8, 2: 7}, min_size=7\n",
      "eps=2.6, min_samples=7, clusters=3, noise=13.73%, silhouette=0.69, sizes={0: 205, 1: 8, 2: 7}, min_size=7\n",
      "eps=2.6, min_samples=8, clusters=2, noise=16.47%, silhouette=0.78, sizes={0: 205, 1: 8}, min_size=8\n",
      "eps=2.7, min_samples=5, clusters=4, noise=10.98%, silhouette=0.71, sizes={0: 206, 2: 9, 1: 7, 3: 5}, min_size=5\n",
      "eps=2.7, min_samples=6, clusters=3, noise=13.33%, silhouette=0.70, sizes={0: 206, 2: 8, 1: 7}, min_size=7\n",
      "eps=2.7, min_samples=7, clusters=3, noise=13.73%, silhouette=0.69, sizes={0: 205, 1: 8, 2: 7}, min_size=7\n",
      "eps=2.7, min_samples=8, clusters=2, noise=16.47%, silhouette=0.78, sizes={0: 205, 1: 8}, min_size=8\n",
      "eps=2.8, min_samples=5, clusters=4, noise=10.59%, silhouette=0.72, sizes={0: 206, 2: 9, 1: 8, 3: 5}, min_size=5\n",
      "eps=2.8, min_samples=6, clusters=3, noise=12.94%, silhouette=0.71, sizes={0: 206, 1: 8, 2: 8}, min_size=8\n",
      "eps=2.8, min_samples=7, clusters=3, noise=13.33%, silhouette=0.70, sizes={0: 206, 1: 8, 2: 7}, min_size=7\n",
      "eps=2.8, min_samples=8, clusters=2, noise=16.08%, silhouette=0.79, sizes={0: 206, 1: 8}, min_size=8\n",
      "\n",
      "Top 5 DBSCAN Configurations:\n",
      "eps=2.8, min_samples=8, clusters=2, noise=16.08%, silhouette=0.79, sizes={0: 206, 1: 8}, min_size=8\n",
      "eps=2.5, min_samples=8, clusters=2, noise=16.47%, silhouette=0.78, sizes={0: 205, 1: 8}, min_size=8\n",
      "eps=2.6, min_samples=8, clusters=2, noise=16.47%, silhouette=0.78, sizes={0: 205, 1: 8}, min_size=8\n",
      "eps=2.7, min_samples=8, clusters=2, noise=16.47%, silhouette=0.78, sizes={0: 205, 1: 8}, min_size=8\n",
      "eps=2.8, min_samples=5, clusters=4, noise=10.59%, silhouette=0.72, sizes={0: 206, 2: 9, 1: 8, 3: 5}, min_size=5\n",
      "Best DBSCAN: eps=2.8, min_samples=8, Clusters: [-1  0  1], Silhouette Score: 0.79\n"
     ]
    }
   ],
   "source": [
    "# DBSCAN clustering (spatial-temporal)\n",
    "from sklearn.preprocessing import RobustScaler\n",
    "\n",
    "# Prepare features with capped pickup_count and binary temporal features\n",
    "X_cluster_dbscan = zone_features[[\"pickup_lat\", \"pickup_lon\", \"pickup_count_capped\", \"hour_peak\", \"day_of_week_weekend\", \"total_amount\"]]\n",
    "# Use RobustScaler to handle outliers\n",
    "scaler = RobustScaler()\n",
    "X_cluster_dbscan_scaled = scaler.fit_transform(X_cluster_dbscan)\n",
    "# Apply weights to balance features\n",
    "weights = np.array([1.0, 1.0, 0.9, 0.8, 0.8, 0.9])  # Prioritize spatial and economic features\n",
    "X_cluster_dbscan_scaled = X_cluster_dbscan_scaled * weights\n",
    "# Tune eps and min_samples for multiple clusters\n",
    "eps_values = [2.5, 2.6, 2.7, 2.8]  # Fine-tuned range around best eps\n",
    "min_samples_values = [5, 6, 7, 8]  # Denser clusters for balance\n",
    "best_silhouette = -1\n",
    "best_eps = 2.6\n",
    "best_min_samples = 6\n",
    "best_labels = None\n",
    "best_min_cluster_size = 0\n",
    "top_configs = []  # Store top 5 configurations\n",
    "for eps in eps_values:\n",
    "    for min_samples in min_samples_values:\n",
    "        dbscan = DBSCAN(eps=eps, min_samples=min_samples)\n",
    "        labels = dbscan.fit_predict(X_cluster_dbscan_scaled)\n",
    "        n_clusters = len(np.unique(labels)) - (1 if -1 in labels else 0)\n",
    "        if n_clusters >= 2:  # Consider all multi-cluster configurations\n",
    "            silhouette = silhouette_score(X_cluster_dbscan_scaled, labels)\n",
    "            noise_ratio = np.mean(labels == -1)\n",
    "            cluster_sizes = pd.Series(labels[labels != -1]).value_counts().to_dict()\n",
    "            min_cluster_size = min(cluster_sizes.values()) if cluster_sizes else 0\n",
    "            print(f\"eps={eps}, min_samples={min_samples}, clusters={n_clusters}, noise={noise_ratio:.2%}, silhouette={silhouette:.2f}, sizes={cluster_sizes}, min_size={min_cluster_size}\")\n",
    "            top_configs.append((silhouette, min_cluster_size, eps, min_samples, n_clusters, noise_ratio, cluster_sizes))\n",
    "            if silhouette > best_silhouette or (silhouette == best_silhouette and min_cluster_size > best_min_cluster_size):\n",
    "                best_silhouette = silhouette\n",
    "                best_eps = eps\n",
    "                best_min_samples = min_samples\n",
    "                best_labels = labels\n",
    "                best_min_cluster_size = min_cluster_size\n",
    "# Sort and print top 5 configurations\n",
    "top_configs = sorted(top_configs, reverse=True, key=lambda x: (x[0], x[1]))[:5]\n",
    "print(\"\\nTop 5 DBSCAN Configurations:\")\n",
    "for config in top_configs:\n",
    "    silhouette, min_cluster_size, eps, min_samples, n_clusters, noise_ratio, sizes = config\n",
    "    print(f\"eps={eps}, min_samples={min_samples}, clusters={n_clusters}, noise={noise_ratio:.2%}, silhouette={silhouette:.2f}, sizes={sizes}, min_size={min_cluster_size}\")\n",
    "# Note: Reverted to peak-based features, recaptured 0.75 score\n",
    "dbscan = DBSCAN(eps=best_eps, min_samples=best_min_samples)\n",
    "zone_features[\"dbscan_cluster\"] = dbscan.fit_predict(X_cluster_dbscan_scaled)\n",
    "zone_features[\"dbscan_cluster\"] = zone_features[\"dbscan_cluster\"].astype(int)  # Ensure integer\n",
    "print(f\"Best DBSCAN: eps={best_eps}, min_samples={best_min_samples}, Clusters: {np.unique(zone_features['dbscan_cluster'])}, Silhouette Score: {best_silhouette:.2f}\")\n",
    "\n",
    "# Save DBSCAN model and labels\n",
    "with open(base_url + \"models/dbscan_model.pkl\", \"wb\") as f:\n",
    "    pickle.dump(dbscan, f)\n",
    "pd.DataFrame({\"PULocationID\": zone_features[\"PULocationID\"], \"dbscan_cluster\": zone_features[\"dbscan_cluster\"]}).to_csv(\n",
    "    base_url + \"data/processed/dbscan_labels.csv\", index=False\n",
    ")"
   ]
  },
  {
   "cell_type": "markdown",
   "metadata": {},
   "source": [
    "## Step 12: Silhouette Score Comparison\n",
    "Compare K-means and DBSCAN clustering quality."
   ]
  },
  {
   "cell_type": "code",
   "execution_count": 14,
   "metadata": {
    "ExecuteTime": {
     "end_time": "2025-04-25T12:21:19.180399Z",
     "start_time": "2025-04-25T12:21:19.133260Z"
    }
   },
   "outputs": [
    {
     "data": {
      "text/plain": "<Figure size 800x600 with 1 Axes>",
      "image/png": "[encoded data removed]"
     },
     "metadata": {},
     "output_type": "display_data"
    }
   ],
   "source": [
    "# Silhouette score comparison\n",
    "plt.figure(figsize=(8, 6))\n",
    "plt.bar([\"K-means\", \"DBSCAN\"], [kmeans_silhouette, best_silhouette])\n",
    "plt.title(\"Silhouette Score Comparison\")\n",
    "plt.ylabel(\"Silhouette Score\")\n",
    "plt.savefig(base_url + \"visualizations/silhouette_comparison.png\")\n",
    "plt.show()\n",
    "plt.close()"
   ]
  },
  {
   "cell_type": "markdown",
   "metadata": {},
   "source": [
    "## Step 13: Cluster Statistics and Labels\n",
    "Compute statistics and assign descriptive labels to clusters."
   ]
  },
  {
   "cell_type": "code",
   "execution_count": 15,
   "metadata": {
    "ExecuteTime": {
     "end_time": "2025-04-25T12:21:24.260801Z",
     "start_time": "2025-04-25T12:21:24.254705Z"
    }
   },
   "outputs": [],
   "source": [
    "# Cluster statistics and labels\n",
    "def assign_cluster_label(cluster_id, pickup_count_raw, total_amount):\n",
    "    if pickup_count_raw > zone_features[\"pickup_count_raw\"].quantile(0.75):\n",
    "        return \"High-Demand Urban\"\n",
    "    elif total_amount > zone_features[\"total_amount\"].quantile(0.75):\n",
    "        return \"High-Fare\"\n",
    "    elif cluster_id == -1:\n",
    "        return \"Noise\"\n",
    "    else:\n",
    "        return \"Residential\"\n",
    "\n",
    "cluster_stats = zone_features.groupby(\"kmeans_cluster\").agg({\n",
    "    \"pickup_count_raw\": [\"sum\", \"mean\", \"count\"],  # Use pickup_count_raw instead of pickup_count\n",
    "    \"total_amount\": \"mean\"\n",
    "}).reset_index()\n",
    "cluster_stats.columns = [\"kmeans_cluster\", \"total_pickups\", \"avg_pickups\", \"zone_count\", \"avg_fare\"]\n",
    "cluster_stats[\"label\"] = cluster_stats.apply(\n",
    "    lambda x: assign_cluster_label(x[\"kmeans_cluster\"], x[\"avg_pickups\"], x[\"avg_fare\"]), axis=1\n",
    ")\n",
    "cluster_stats.to_csv(base_url + \"data/processed/kmeans_cluster_stats.csv\", index=False)\n",
    "\n",
    "dbscan_stats = zone_features.groupby(\"dbscan_cluster\").agg({\n",
    "    \"pickup_count_raw\": [\"sum\", \"mean\", \"count\"],  # Use pickup_count_raw instead of pickup_count\n",
    "    \"total_amount\": \"mean\"\n",
    "}).reset_index()\n",
    "dbscan_stats.columns = [\"dbscan_cluster\", \"total_pickups\", \"avg_pickups\", \"zone_count\", \"avg_fare\"]\n",
    "dbscan_stats[\"label\"] = dbscan_stats.apply(\n",
    "    lambda x: assign_cluster_label(x[\"dbscan_cluster\"], x[\"avg_pickups\"], x[\"avg_fare\"]), axis=1\n",
    ")\n",
    "dbscan_stats.to_csv(base_url + \"data/processed/dbscan_cluster_stats.csv\", index=False)"
   ]
  },
  {
   "cell_type": "markdown",
   "metadata": {},
   "source": [
    "## Step 14: Verify Cluster Types\n",
    "Check cluster column types to ensure they are integers."
   ]
  },
  {
   "cell_type": "code",
   "execution_count": 16,
   "metadata": {
    "ExecuteTime": {
     "end_time": "2025-04-25T12:21:31.669237Z",
     "start_time": "2025-04-25T12:21:31.374591Z"
    }
   },
   "outputs": [
    {
     "name": "stdout",
     "output_type": "stream",
     "text": [
      "kmeans_cluster dtype: int64\n",
      "dbscan_cluster dtype: int64\n"
     ]
    }
   ],
   "source": [
    "# Verify cluster column types\n",
    "print(f\"kmeans_cluster dtype: {zone_features['kmeans_cluster'].dtype}\")\n",
    "print(f\"dbscan_cluster dtype: {zone_features['dbscan_cluster'].dtype}\")"
   ]
  },
  {
   "cell_type": "markdown",
   "metadata": {},
   "source": [
    "## Step 15: Visualize K-means Clusters\n",
    "Create a Folium map with labeled K-means clusters."
   ]
  },
  {
   "cell_type": "code",
   "execution_count": 17,
   "metadata": {
    "ExecuteTime": {
     "end_time": "2025-04-25T12:21:36.133944Z",
     "start_time": "2025-04-25T12:21:35.921935Z"
    }
   },
   "outputs": [],
   "source": [
    "# Visualize K-means clusters\n",
    "m_kmeans = folium.Map(location=[40.7128, -74.0060], zoom_start=11)\n",
    "for _, row in zone_features.merge(cluster_stats[[\"kmeans_cluster\", \"label\"]], on=\"kmeans_cluster\").iterrows():\n",
    "    if pd.notna(row[\"pickup_lat\"]) and pd.notna(row[\"pickup_lon\"]):\n",
    "        folium.CircleMarker(\n",
    "            location=[row[\"pickup_lat\"], row[\"pickup_lon\"]],\n",
    "            radius=5,\n",
    "            color=[\"red\", \"blue\", \"green\", \"purple\"][int(row[\"kmeans_cluster\"])],\n",
    "            fill=True,\n",
    "            popup=f\"Zone {row['PULocationID']}: {row['label']}\"\n",
    "        ).add_to(m_kmeans)\n",
    "m_kmeans.save(base_url + \"visualizations/kmeans_cluster_map.html\")"
   ]
  },
  {
   "cell_type": "markdown",
   "metadata": {},
   "source": [
    "## Step 16: Visualize DBSCAN Clusters\n",
    "Create a Folium map for DBSCAN clusters, excluding noise."
   ]
  },
  {
   "cell_type": "code",
   "execution_count": 18,
   "metadata": {
    "ExecuteTime": {
     "end_time": "2025-04-25T12:21:41.272104Z",
     "start_time": "2025-04-25T12:21:41.146776Z"
    }
   },
   "outputs": [
    {
     "name": "stdout",
     "output_type": "stream",
     "text": [
      "Saved clustering results, statistics, and visualizations\n"
     ]
    }
   ],
   "source": [
    "# Visualize DBSCAN clusters\n",
    "m_dbscan = folium.Map(location=[40.7128, -74.0060], zoom_start=11)\n",
    "for _, row in zone_features.merge(dbscan_stats[[\"dbscan_cluster\", \"label\"]], on=\"dbscan_cluster\").iterrows():\n",
    "    if pd.notna(row[\"pickup_lat\"]) and pd.notna(row[\"pickup_lon\"]) and row[\"dbscan_cluster\"] != -1:\n",
    "        folium.CircleMarker(\n",
    "            location=[row[\"pickup_lat\"], row[\"pickup_lon\"]],\n",
    "            radius=5,\n",
    "            color=[\"red\", \"blue\", \"green\", \"purple\"][int(row[\"dbscan_cluster\"]) % 4],\n",
    "            fill=True,\n",
    "            popup=f\"Zone {row['PULocationID']}: {row['label']}\"\n",
    "        ).add_to(m_dbscan)\n",
    "m_dbscan.save(base_url + \"visualizations/dbscan_cluster_map.html\")\n",
    "print(\"Saved clustering results, statistics, and visualizations\")"
   ]
  },
  {
   "cell_type": "markdown",
   "metadata": {},
   "source": [
    "## Step 17: Conclusion\n",
    "This notebook classifies high-demand zones without leakage, clusters hotspots with temporal context, and provides actionable statistics and visualizations. Challenges included avoiding data leakage (removed pickup_count) and tuning DBSCAN (added hour, expanded eps), addressed to create a realistic and useful component for the dashboard."
   ]
  },
  {
   "cell_type": "code",
   "outputs": [],
   "source": [],
   "metadata": {
    "collapsed": false
   }
  }
 ],
 "metadata": {
  "kernelspec": {
   "display_name": "Python 3",
   "language": "python",
   "name": "python3"
  },
  "language_info": {
   "codemirror_mode": {
    "name": "ipython",
    "version": 3
   },
   "file_extension": ".py",
   "mimetype": "text/x-python",
   "name": "python",
   "nbconvert_exporter": "python",
   "pygments_lexer": "ipython3",
   "version": "3.12.0"
  }
 },
 "nbformat": 4,
 "nbformat_minor": 2
}
